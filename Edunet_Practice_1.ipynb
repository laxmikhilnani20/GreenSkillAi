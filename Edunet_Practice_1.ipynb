{
  "nbformat": 4,
  "nbformat_minor": 0,
  "metadata": {
    "colab": {
      "provenance": []
    },
    "kernelspec": {
      "name": "python3",
      "display_name": "Python 3"
    },
    "language_info": {
      "name": "python"
    }
  },
  "cells": [
    {
      "cell_type": "code",
      "execution_count": null,
      "metadata": {
        "colab": {
          "base_uri": "https://localhost:8080/"
        },
        "id": "OFZue-qJ0yLJ",
        "outputId": "cb8cb85d-fe85-4fbf-8043-adfd31800483"
      },
      "outputs": [
        {
          "output_type": "stream",
          "name": "stdout",
          "text": [
            "City Name = City A\n",
            "Temperature In Celcius = 25C\n",
            "Temperature In Farenheit = 77.0F\n",
            "Carbon Footprint = 500.75 kg CO2\n",
            "Is the city sustainable? = False\n"
          ]
        }
      ],
      "source": [
        "city_name = \"City A\"\n",
        "print(f\"City Name = {city_name}\")\n",
        "\n",
        "temperature = 25\n",
        "print(f\"Temperature In Celcius = {temperature}C\")\n",
        "\n",
        "temperatureF = (9/5)*temperature + 32\n",
        "print(f\"Temperature In Farenheit = {temperatureF}F\")\n",
        "\n",
        "carbon_footprint = 500.75\n",
        "print(f\"Carbon Footprint = {carbon_footprint} kg CO2\")\n",
        "is_sustainable = carbon_footprint < 400\n",
        "print(f\"Is the city sustainable? = {is_sustainable}\")"
      ]
    },
    {
      "cell_type": "code",
      "source": [
        "num = (input(\"Enter Number = \"))\n",
        "ans = num.isdigit()\n",
        "print(ans)"
      ],
      "metadata": {
        "colab": {
          "base_uri": "https://localhost:8080/"
        },
        "id": "lTH5DcW7EIH7",
        "outputId": "f34937ba-c594-4849-b215-2da6b28994d1"
      },
      "execution_count": null,
      "outputs": [
        {
          "output_type": "stream",
          "name": "stdout",
          "text": [
            "Enter Number = 32\n",
            "True\n"
          ]
        }
      ]
    },
    {
      "cell_type": "code",
      "source": [
        "a = int(input(\"Enter first num = \"))\n",
        "b = int(input(\"Enter second num = \"))\n",
        "symbol = input(\"Enter operator = \")\n",
        "\n",
        "if symbol == \"+\":\n",
        "  result = a + b\n",
        "elif symbol == \"-\":\n",
        "  result = a - b\n",
        "elif symbol == \"*\":\n",
        "  result = a * b\n",
        "else:\n",
        "  result = a / b\n",
        "print(f\"result = {result}\")"
      ],
      "metadata": {
        "colab": {
          "base_uri": "https://localhost:8080/"
        },
        "id": "4vNUNE1UHf-H",
        "outputId": "03999779-e684-4130-beb0-24402ce66b39"
      },
      "execution_count": null,
      "outputs": [
        {
          "output_type": "stream",
          "name": "stdout",
          "text": [
            "Enter first num = 8\n",
            "Enter second num = 7\n",
            "Enter operator = -\n",
            "result = 1\n"
          ]
        }
      ]
    },
    {
      "cell_type": "code",
      "source": [
        "climate_data = [\n",
        "    {\"city\": \"City A\", \"temperature\": 25, \"carbon_footprint\": 500},\n",
        "    {\"city\": \"City B\", \"temperature\": 30, \"carbon_footprint\": 350},\n",
        "    {\"city\": \"City C\", \"temperature\": 22, \"carbon_footprint\": 600},\n",
        "    {\"city\": \"City D\", \"temperature\": 15, \"carbon_footprint\": 200},\n",
        "    {\"city\": \"City E\", \"temperature\": 28, \"carbon_footprint\": 450},\n",
        "]\n",
        "\n",
        "high_temp_threshold = 26\n",
        "high_temp_cities = [city for city in climate_data if city[\"temperature\"] > high_temp_threshold]\n",
        "\n",
        "print(\"Cities with high temperature (> 26 C) = \")\n",
        "for city in high_temp_cities:\n",
        "  print(f\"{city['city']} - {city['temperature']} C\")"
      ],
      "metadata": {
        "colab": {
          "base_uri": "https://localhost:8080/"
        },
        "id": "5F7SNShHLdrW",
        "outputId": "83c13d0b-731b-446b-e92a-71430405ab1f"
      },
      "execution_count": null,
      "outputs": [
        {
          "output_type": "stream",
          "name": "stdout",
          "text": [
            "Cities with high temperature (> 26 C) = \n",
            "City B - 30 C\n",
            "City E - 28 C\n"
          ]
        }
      ]
    },
    {
      "cell_type": "code",
      "source": [
        "energy_consumption = 1000\n",
        "emission_factor = 0.475\n",
        "\n",
        "carbon_factor = calculate_carbon_footprint(energy_consumption, emission_factor)\n",
        "print(f\"Carbon Footprint = {carbon_footprint} kg CO2\")"
      ],
      "metadata": {
        "id": "B7NUFEUKSjg9",
        "colab": {
          "base_uri": "https://localhost:8080/",
          "height": 198
        },
        "outputId": "7a6790b3-c642-4101-88f5-3dbecabb8d5e"
      },
      "execution_count": null,
      "outputs": [
        {
          "output_type": "error",
          "ename": "NameError",
          "evalue": "name 'calculate_carbon_footprint' is not defined",
          "traceback": [
            "\u001b[0;31m---------------------------------------------------------------------------\u001b[0m",
            "\u001b[0;31mNameError\u001b[0m                                 Traceback (most recent call last)",
            "\u001b[0;32m<ipython-input-5-38370c229cdd>\u001b[0m in \u001b[0;36m<cell line: 4>\u001b[0;34m()\u001b[0m\n\u001b[1;32m      2\u001b[0m \u001b[0memission_factor\u001b[0m \u001b[0;34m=\u001b[0m \u001b[0;36m0.475\u001b[0m\u001b[0;34m\u001b[0m\u001b[0;34m\u001b[0m\u001b[0m\n\u001b[1;32m      3\u001b[0m \u001b[0;34m\u001b[0m\u001b[0m\n\u001b[0;32m----> 4\u001b[0;31m \u001b[0mcarbon_factor\u001b[0m \u001b[0;34m=\u001b[0m \u001b[0mcalculate_carbon_footprint\u001b[0m\u001b[0;34m(\u001b[0m\u001b[0menergy_consumption\u001b[0m\u001b[0;34m,\u001b[0m \u001b[0memission_factor\u001b[0m\u001b[0;34m)\u001b[0m\u001b[0;34m\u001b[0m\u001b[0;34m\u001b[0m\u001b[0m\n\u001b[0m\u001b[1;32m      5\u001b[0m \u001b[0mprint\u001b[0m\u001b[0;34m(\u001b[0m\u001b[0;34mf\"Carbon Footprint = {carbon_footprint} kg CO2\"\u001b[0m\u001b[0;34m)\u001b[0m\u001b[0;34m\u001b[0m\u001b[0;34m\u001b[0m\u001b[0m\n",
            "\u001b[0;31mNameError\u001b[0m: name 'calculate_carbon_footprint' is not defined"
          ]
        }
      ]
    },
    {
      "cell_type": "code",
      "source": [
        "is_leap_year = lambda year: (year % 4 == 0 and year % 100 != 0) or (year % 400 == 0)\n",
        "\n",
        "# Test the lambda function\n",
        "year = int(input(\"Enter a year: \"))\n",
        "print(f\"{year} is a leap year: {is_leap_year(year)}\")\n"
      ],
      "metadata": {
        "id": "UOfNxqtLQBYu"
      },
      "execution_count": null,
      "outputs": []
    },
    {
      "cell_type": "code",
      "source": [
        "import pandas as pd\n",
        "\n",
        "renewable_sources = [\"Solar\", \"Wind\", \"Hydropower\", \"Geothermal\", \"Biomas\"]\n",
        "\n",
        "data = {\n",
        "    \"Project\": [\"Solar Farm A\", \"Wind Turbine X\", \"Hydropower Y\", \"Solar Roof Z\", \"Geothermal Plant P\"],\n",
        "    \"Technology\": [\"Solar\", \"Wind\", \"Hydropower\", \"Solar\", \"Geothermal\"],\n",
        "    \"Capacity (MW)\": [150, 300, 200, 50, 100],  # Megawatts\n",
        "    \"Cost (Million $)\": [200, 400, 350, 100, 250],  # Project cost\n",
        "    \"Location\": [\"California\", \"Texas\", \"Washington\", \"Nevada\", \"Idaho\"],\n",
        "    \"Completion Year\": [2023, 2024, 2022, 2025, 2023]\n",
        "}\n",
        "\n",
        "renewable_series = pd.Series(renewable_sources)\n",
        "\n",
        "print(\"Renewable Energy Sources: \")\n",
        "print(renewable_series)"
      ],
      "metadata": {
        "id": "trC2o5ZQR8zg"
      },
      "execution_count": null,
      "outputs": []
    },
    {
      "cell_type": "code",
      "source": [
        "projects_df = pd.DataFrame(data)\n",
        "projects_df = pd.DataFrame(data)\n",
        "projects_df.head()"
      ],
      "metadata": {
        "id": "EaoRBtd4TUGZ"
      },
      "execution_count": null,
      "outputs": []
    },
    {
      "cell_type": "code",
      "source": [
        "import pandas as pd\n",
        "\n",
        "\n",
        "projects_df = pd.DataFrame(data)\n",
        "\n",
        "\n",
        "selected_rows = projects_df.iloc[[1, 2]]\n",
        "\n",
        "\n",
        "print(selected_rows)"
      ],
      "metadata": {
        "id": "QUd4OApNUIfI"
      },
      "execution_count": null,
      "outputs": []
    },
    {
      "cell_type": "code",
      "source": [
        "projects_df.info()"
      ],
      "metadata": {
        "id": "8GeeNuc4WWaO"
      },
      "execution_count": null,
      "outputs": []
    },
    {
      "cell_type": "code",
      "source": [
        "projects_df.describe()"
      ],
      "metadata": {
        "id": "zQ5Mcg0aWaIz"
      },
      "execution_count": null,
      "outputs": []
    },
    {
      "cell_type": "code",
      "source": [
        "import pandas as pd\n",
        "\n",
        "# Create DataFrame\n",
        "projects_df = pd.DataFrame(data)\n",
        "\n",
        "# Filter projects with capacity > 100 MW\n",
        "high_capacity_projects = projects_df[projects_df['Capacity (MW)'] > 100]\n",
        "\n",
        "# Display the result\n",
        "print(high_capacity_projects)\n"
      ],
      "metadata": {
        "id": "FG8Ir2-yZ-yz"
      },
      "execution_count": null,
      "outputs": []
    },
    {
      "cell_type": "code",
      "source": [
        "import pandas as pd\n",
        "\n",
        "# Create DataFrame\n",
        "projects_df = pd.DataFrame(data)\n",
        "\n",
        "# Add a new column for cost per megawatt\n",
        "projects_df['Cost per MW ($)'] = projects_df['Cost (Million $)'] / projects_df['Capacity (MW)']\n",
        "\n",
        "# Display the updated DataFrame\n",
        "print(projects_df)"
      ],
      "metadata": {
        "id": "okbrRvk9bqw7"
      },
      "execution_count": null,
      "outputs": []
    },
    {
      "cell_type": "code",
      "source": [
        "import pandas as pd\n",
        "\n",
        "# Create DataFrame\n",
        "projects_df = pd.DataFrame(data)\n",
        "\n",
        "# Group by Technology Type and calculate total capacity\n",
        "capacity_by_technology = projects_df.groupby('Technology')['Capacity (MW)'].sum()\n",
        "\n",
        "# Display the result\n",
        "print(capacity_by_technology)\n"
      ],
      "metadata": {
        "id": "En6tZ2FVxOxf"
      },
      "execution_count": null,
      "outputs": []
    },
    {
      "cell_type": "code",
      "source": [
        "import numpy as np\n",
        "\n",
        "# From a list\n",
        "arr1 = np.array([1, 2, 3, 4])\n",
        "# From a tuple\n",
        "arr2 = np.array((5, 6, 7, 8))\n",
        "\n",
        "print(arr1)  # Output: [1 2 3 4]\n",
        "print(arr2)  # Output: [5 6 7 8]\n"
      ],
      "metadata": {
        "colab": {
          "base_uri": "https://localhost:8080/"
        },
        "id": "o3qylmQF2Msm",
        "outputId": "cda7ed87-f656-484f-d882-d70da11ec50a"
      },
      "execution_count": null,
      "outputs": [
        {
          "output_type": "stream",
          "name": "stdout",
          "text": [
            "[1 2 3 4]\n",
            "[5 6 7 8]\n"
          ]
        }
      ]
    },
    {
      "cell_type": "code",
      "source": [
        "arr = np.zeros((2, 3))  # 2x3 array\n",
        "print(arr)\n",
        "# Output:\n",
        "# [[0. 0. 0.]\n",
        "#  [0. 0. 0.]]\n"
      ],
      "metadata": {
        "colab": {
          "base_uri": "https://localhost:8080/"
        },
        "id": "t7u1QXsU2Qqq",
        "outputId": "407487bf-7937-43fd-b789-f15f00027e8f"
      },
      "execution_count": null,
      "outputs": [
        {
          "output_type": "stream",
          "name": "stdout",
          "text": [
            "[[0. 0. 0.]\n",
            " [0. 0. 0.]]\n"
          ]
        }
      ]
    },
    {
      "cell_type": "code",
      "source": [
        "arr = np.ones((3, 2))  # 3x2 array\n",
        "print(arr)\n",
        "# Output:\n",
        "# [[1. 1.]\n",
        "#  [1. 1.]\n",
        "#  [1. 1.]]\n"
      ],
      "metadata": {
        "colab": {
          "base_uri": "https://localhost:8080/"
        },
        "id": "xT3_BOB92X9p",
        "outputId": "d7f991c1-6894-4a9d-a016-2de81c8b7f64"
      },
      "execution_count": null,
      "outputs": [
        {
          "output_type": "stream",
          "name": "stdout",
          "text": [
            "[[1. 1.]\n",
            " [1. 1.]\n",
            " [1. 1.]]\n"
          ]
        }
      ]
    },
    {
      "cell_type": "code",
      "source": [
        "arr = np.arange(0, 10, 2)  # Start at 0, end before 10, step by 2\n",
        "print(arr)  # Output: [0 2 4 6 8]\n"
      ],
      "metadata": {
        "colab": {
          "base_uri": "https://localhost:8080/"
        },
        "id": "khigfq8O2Yae",
        "outputId": "41a8518a-4d2a-44a9-e953-3e23c16687ea"
      },
      "execution_count": null,
      "outputs": [
        {
          "output_type": "stream",
          "name": "stdout",
          "text": [
            "[0 2 4 6 8]\n"
          ]
        }
      ]
    },
    {
      "cell_type": "code",
      "source": [
        "arr = np.linspace(0, 1, 5)  # 5 evenly spaced numbers between 0 and 1\n",
        "print(arr)  # Output: [0.   0.25 0.5  0.75 1.  ]\n"
      ],
      "metadata": {
        "colab": {
          "base_uri": "https://localhost:8080/"
        },
        "id": "SujhFnPV2YiQ",
        "outputId": "ef925c3a-f321-4dd9-9619-e653b5472f26"
      },
      "execution_count": null,
      "outputs": [
        {
          "output_type": "stream",
          "name": "stdout",
          "text": [
            "[0.   0.25 0.5  0.75 1.  ]\n"
          ]
        }
      ]
    },
    {
      "cell_type": "code",
      "source": [
        "arr = np.random.rand(3, 3)  # 3x3 array\n",
        "print(arr)\n"
      ],
      "metadata": {
        "colab": {
          "base_uri": "https://localhost:8080/"
        },
        "id": "o4SuQfCu2krW",
        "outputId": "e679f273-e050-402a-9565-b3351e3e2016"
      },
      "execution_count": null,
      "outputs": [
        {
          "output_type": "stream",
          "name": "stdout",
          "text": [
            "[[0.71019455 0.68706038 0.18577469]\n",
            " [0.03574728 0.32450034 0.85606773]\n",
            " [0.97049051 0.22134033 0.36023492]]\n"
          ]
        }
      ]
    },
    {
      "cell_type": "code",
      "source": [
        "arr = np.random.randint(0, 10, (2, 2))  # Random integers between 0 and 10\n",
        "print(arr)\n"
      ],
      "metadata": {
        "colab": {
          "base_uri": "https://localhost:8080/"
        },
        "id": "me7GYZfO2kuM",
        "outputId": "bac4711c-627c-464b-b159-14b70432cc9e"
      },
      "execution_count": null,
      "outputs": [
        {
          "output_type": "stream",
          "name": "stdout",
          "text": [
            "[[7 2]\n",
            " [3 2]]\n"
          ]
        }
      ]
    },
    {
      "cell_type": "code",
      "source": [
        "arr = np.full((2, 3), 7)  # 2x3 array filled with 7\n",
        "print(arr)\n",
        "# Output:\n",
        "# [[7 7 7]\n",
        "#  [7 7 7]]\n"
      ],
      "metadata": {
        "colab": {
          "base_uri": "https://localhost:8080/"
        },
        "id": "WAVrfdKY2kx5",
        "outputId": "61bb9c6d-59b6-4922-d4a5-71e20512117f"
      },
      "execution_count": null,
      "outputs": [
        {
          "output_type": "stream",
          "name": "stdout",
          "text": [
            "[[7 7 7]\n",
            " [7 7 7]]\n"
          ]
        }
      ]
    },
    {
      "cell_type": "code",
      "source": [
        "arr = np.eye(3)  # 3x3 identity matrix\n",
        "print(arr)\n",
        "# Output:\n",
        "# [[1. 0. 0.]\n",
        "#  [0. 1. 0.]\n",
        "#  [0. 0. 1.]]\n"
      ],
      "metadata": {
        "colab": {
          "base_uri": "https://localhost:8080/"
        },
        "id": "sni-x3KD2k33",
        "outputId": "abaf2f69-ee9c-4d63-d345-22c70fcb9c85"
      },
      "execution_count": null,
      "outputs": [
        {
          "output_type": "stream",
          "name": "stdout",
          "text": [
            "[[1. 0. 0.]\n",
            " [0. 1. 0.]\n",
            " [0. 0. 1.]]\n"
          ]
        }
      ]
    },
    {
      "cell_type": "code",
      "source": [
        "arr = np.empty((2, 3))  # 2x3 array\n",
        "print(arr)\n",
        "# Output: Random uninitialized values\n"
      ],
      "metadata": {
        "colab": {
          "base_uri": "https://localhost:8080/"
        },
        "id": "C7_IJ_HV2k_V",
        "outputId": "20823102-c712-4b89-8234-45e049d2c7a9"
      },
      "execution_count": null,
      "outputs": [
        {
          "output_type": "stream",
          "name": "stdout",
          "text": [
            "[[3.5e-323 3.5e-323 3.5e-323]\n",
            " [3.5e-323 3.5e-323 3.5e-323]]\n"
          ]
        }
      ]
    },
    {
      "cell_type": "code",
      "source": [
        "arr = np.fromfunction(lambda i, j: i + j, (3, 3), dtype=int)\n",
        "print(arr)\n",
        "# Output:\n",
        "# [[0 1 2]\n",
        "#  [1 2 3]\n",
        "#  [2 3 4]]\n"
      ],
      "metadata": {
        "colab": {
          "base_uri": "https://localhost:8080/"
        },
        "id": "xNv7oMcu21UE",
        "outputId": "ca5e2f7d-f53b-47d1-bfa3-a94db0548fb8"
      },
      "execution_count": null,
      "outputs": [
        {
          "output_type": "stream",
          "name": "stdout",
          "text": [
            "[[0 1 2]\n",
            " [1 2 3]\n",
            " [2 3 4]]\n"
          ]
        }
      ]
    },
    {
      "cell_type": "code",
      "source": [
        "arr = np.fromiter(range(5), dtype=int)\n",
        "print(arr)  # Output: [0 1 2 3 4]\n"
      ],
      "metadata": {
        "colab": {
          "base_uri": "https://localhost:8080/"
        },
        "id": "HliC8vts21bW",
        "outputId": "ff50350d-2260-486b-c22b-0a2765516043"
      },
      "execution_count": null,
      "outputs": [
        {
          "output_type": "stream",
          "name": "stdout",
          "text": [
            "[0 1 2 3 4]\n"
          ]
        }
      ]
    },
    {
      "cell_type": "code",
      "source": [
        "arr = np.tile([1, 2], (3, 2))  # Repeat [1, 2] in a 3x2 block\n",
        "print(arr)\n",
        "# Output:\n",
        "# [[1 2 1 2]\n",
        "#  [1 2 1 2]\n",
        "#  [1 2 1 2]]\n"
      ],
      "metadata": {
        "colab": {
          "base_uri": "https://localhost:8080/"
        },
        "id": "9CnI34ZP21yN",
        "outputId": "261f60db-b122-4963-e103-2b66a17d11d9"
      },
      "execution_count": null,
      "outputs": [
        {
          "output_type": "stream",
          "name": "stdout",
          "text": [
            "[[1 2 1 2]\n",
            " [1 2 1 2]\n",
            " [1 2 1 2]]\n"
          ]
        }
      ]
    },
    {
      "cell_type": "code",
      "source": [
        "arr = np.arange(12).reshape(3, 4)  # 3x4 array from 0-11\n",
        "print(arr)\n",
        "# Output:\n",
        "# [[ 0  1  2  3]\n",
        "#  [ 4  5  6  7]\n",
        "#  [ 8  9 10 11]]\n"
      ],
      "metadata": {
        "colab": {
          "base_uri": "https://localhost:8080/"
        },
        "id": "mtic6385211K",
        "outputId": "a550666c-f5e4-4ea3-d133-48895255d93f"
      },
      "execution_count": null,
      "outputs": [
        {
          "output_type": "stream",
          "name": "stdout",
          "text": [
            "[[ 0  1  2  3]\n",
            " [ 4  5  6  7]\n",
            " [ 8  9 10 11]]\n"
          ]
        }
      ]
    },
    {
      "cell_type": "code",
      "source": [
        "import numpy as np\n",
        "\n",
        "# Example 2D matrix\n",
        "matrix = np.array([[1, 2, 3], [4, 5, 6], [7, 8, 9]])\n",
        "\n",
        "# Flatten the matrix\n",
        "flattened = matrix.flatten()\n",
        "\n",
        "print(\"Original Matrix:\")\n",
        "print(matrix)\n",
        "print(\"\\nFlattened Matrix:\")\n",
        "print(flattened)\n"
      ],
      "metadata": {
        "colab": {
          "base_uri": "https://localhost:8080/"
        },
        "id": "N7Otvv6n8bbp",
        "outputId": "8cfa7728-ec83-4a21-c897-552f4c5c941e"
      },
      "execution_count": null,
      "outputs": [
        {
          "output_type": "stream",
          "name": "stdout",
          "text": [
            "Original Matrix:\n",
            "[[1 2 3]\n",
            " [4 5 6]\n",
            " [7 8 9]]\n",
            "\n",
            "Flattened Matrix:\n",
            "[1 2 3 4 5 6 7 8 9]\n"
          ]
        }
      ]
    },
    {
      "cell_type": "code",
      "source": [
        "matrix = [[1, 2, 3], [4, 5, 6], [7, 8, 9]]\n",
        "\n",
        "# Flatten using list comprehension\n",
        "flattened = [element for row in matrix for element in row]\n",
        "\n",
        "print(flattened)\n"
      ],
      "metadata": {
        "colab": {
          "base_uri": "https://localhost:8080/"
        },
        "id": "H6SzwEgJ8h3m",
        "outputId": "c9ef10d0-9028-4577-9d4a-04b548c84d94"
      },
      "execution_count": null,
      "outputs": [
        {
          "output_type": "stream",
          "name": "stdout",
          "text": [
            "[1, 2, 3, 4, 5, 6, 7, 8, 9]\n"
          ]
        }
      ]
    },
    {
      "cell_type": "code",
      "source": [
        "def is_palindrome(string):\n",
        "    # Remove spaces and convert to lowercase\n",
        "    string = string.replace(\" \", \"\").lower()\n",
        "    # Check if the string is equal to its reverse\n",
        "    return string == string[::-1]\n",
        "\n",
        "# Input from the user\n",
        "input_string = input(\"Enter a string: \")\n",
        "\n",
        "# Check and display the result\n",
        "if is_palindrome(input_string):\n",
        "    print(f'\"{input_string}\" is a palindrome.')\n",
        "else:\n",
        "    print(f'\"{input_string}\" is not a palindrome.')\n"
      ],
      "metadata": {
        "id": "u2cGSlsR22k7",
        "colab": {
          "base_uri": "https://localhost:8080/"
        },
        "outputId": "8696b934-bc01-48bb-b15f-4850883d9d70"
      },
      "execution_count": null,
      "outputs": [
        {
          "output_type": "stream",
          "name": "stdout",
          "text": [
            "Enter a string: NITIN\n",
            "\"NITIN\" is a palindrome.\n"
          ]
        }
      ]
    },
    {
      "cell_type": "code",
      "source": [
        "import numpy as np\n",
        "\n",
        "# Create an array for energy consumption (in kWh)\n",
        "energy_consumption = np.array([350, 420, 300, 400, 500, 450, 380])\n",
        "\n",
        "# Calculate basic statistics\n",
        "mean = np.mean(energy_consumption)  # Mean\n",
        "median = np.median(energy_consumption)  # Median\n",
        "std_dev = np.std(energy_consumption)  # Standard deviation\n",
        "min_value = np.min(energy_consumption)  # Minimum value\n",
        "max_value = np.max(energy_consumption)  # Maximum value\n",
        "total = np.sum(energy_consumption)  # Total energy consumption\n",
        "\n",
        "# Display results\n",
        "print(\"Energy Consumption Data:\", energy_consumption)\n",
        "print(f\"Mean: {mean} kWh\")\n",
        "print(f\"Median: {median} kWh\")\n",
        "print(f\"Standard Deviation: {std_dev:.2f} kWh\")\n",
        "print(f\"Minimum: {min_value} kWh\")\n",
        "print(f\"Maximum: {max_value} kWh\")\n",
        "print(f\"Total Consumption: {total} kWh\")\n"
      ],
      "metadata": {
        "colab": {
          "base_uri": "https://localhost:8080/"
        },
        "id": "606XTCxq968M",
        "outputId": "c896c4e8-ecf2-4c77-ad68-e61efadd0061"
      },
      "execution_count": null,
      "outputs": [
        {
          "output_type": "stream",
          "name": "stdout",
          "text": [
            "Energy Consumption Data: [350 420 300 400 500 450 380]\n",
            "Mean: 400.0 kWh\n",
            "Median: 400.0 kWh\n",
            "Standard Deviation: 60.71 kWh\n",
            "Minimum: 300 kWh\n",
            "Maximum: 500 kWh\n",
            "Total Consumption: 2800 kWh\n"
          ]
        }
      ]
    },
    {
      "cell_type": "code",
      "source": [
        "import numpy as np\n",
        "\n",
        "# Energy consumption array\n",
        "energy_consumption = np.array([350, 420, 300, 400, 500, 450, 380])\n",
        "\n",
        "# Reshape the array into different shapes\n",
        "# Example 1: Reshape into 2 rows and 4 columns (requires adding one more value to match 2x4)\n",
        "energy_consumption = np.append(energy_consumption, [0])  # Add a dummy value to make the size divisible by 8\n",
        "reshaped_2x4 = energy_consumption.reshape(2, 4)\n",
        "\n",
        "# Example 2: Reshape into 4 rows and 2 columns (requires removing/adjusting size)\n",
        "reshaped_4x2 = energy_consumption[:8].reshape(4, 2)  # Trimming excess elements\n",
        "\n",
        "# Example 3: Reshape into a single-column vector\n",
        "reshaped_column = energy_consumption.reshape(-1, 1)\n",
        "\n",
        "# Display reshaped arrays\n",
        "print(\"Original Array:\")\n",
        "print(energy_consumption)\n",
        "\n",
        "print(\"\\nReshaped (2x4):\")\n",
        "print(reshaped_2x4)\n",
        "\n",
        "print(\"\\nReshaped (4x2):\")\n",
        "print(reshaped_4x2)\n",
        "\n",
        "print(\"\\nReshaped to Column Vector:\")\n",
        "print(reshaped_column)\n"
      ],
      "metadata": {
        "colab": {
          "base_uri": "https://localhost:8080/"
        },
        "id": "PKZJBYU7-qph",
        "outputId": "7e6f7e2c-ec5f-45a8-d9f3-cd30e04b5614"
      },
      "execution_count": null,
      "outputs": [
        {
          "output_type": "stream",
          "name": "stdout",
          "text": [
            "Original Array:\n",
            "[350 420 300 400 500 450 380   0]\n",
            "\n",
            "Reshaped (2x4):\n",
            "[[350 420 300 400]\n",
            " [500 450 380   0]]\n",
            "\n",
            "Reshaped (4x2):\n",
            "[[350 420]\n",
            " [300 400]\n",
            " [500 450]\n",
            " [380   0]]\n",
            "\n",
            "Reshaped to Column Vector:\n",
            "[[350]\n",
            " [420]\n",
            " [300]\n",
            " [400]\n",
            " [500]\n",
            " [450]\n",
            " [380]\n",
            " [  0]]\n"
          ]
        }
      ]
    },
    {
      "cell_type": "code",
      "source": [
        "import pandas as pd\n",
        "import numpy as np\n",
        "\n",
        "# Create the DataFrame\n",
        "data = {\n",
        "    \"Energy Source\": [\"Solar\", \"Wind\", \"Hydropower\", \"Geothermal\", \"Biomass\", \"Nuclear\"],\n",
        "    \"Energy Consumption (MWh)\": [1200, np.nan, 2900, np.nan, 2500, 3200],\n",
        "    \"Cost (Million $)\": [200, 400, np.nan, 150, 250, np.nan]\n",
        "}\n",
        "df = pd.DataFrame(data)\n",
        "\n",
        "# Drop rows with any missing values\n",
        "df_cleaned = df.dropna()\n",
        "\n",
        "# Display the cleaned DataFrame\n",
        "print(\"Original DataFrame:\")\n",
        "print(df)\n",
        "\n",
        "print(\"\\nCleaned DataFrame (rows with missing values dropped):\")\n",
        "print(df_cleaned)\n"
      ],
      "metadata": {
        "colab": {
          "base_uri": "https://localhost:8080/"
        },
        "id": "jB8cJtS9AIs2",
        "outputId": "0741e92c-9060-4356-d396-43214908121b"
      },
      "execution_count": null,
      "outputs": [
        {
          "output_type": "stream",
          "name": "stdout",
          "text": [
            "Original DataFrame:\n",
            "  Energy Source  Energy Consumption (MWh)  Cost (Million $)\n",
            "0         Solar                    1200.0             200.0\n",
            "1          Wind                       NaN             400.0\n",
            "2    Hydropower                    2900.0               NaN\n",
            "3    Geothermal                       NaN             150.0\n",
            "4       Biomass                    2500.0             250.0\n",
            "5       Nuclear                    3200.0               NaN\n",
            "\n",
            "Cleaned DataFrame (rows with missing values dropped):\n",
            "  Energy Source  Energy Consumption (MWh)  Cost (Million $)\n",
            "0         Solar                    1200.0             200.0\n",
            "4       Biomass                    2500.0             250.0\n"
          ]
        }
      ]
    },
    {
      "cell_type": "code",
      "source": [
        "# MinMaxScaler\n",
        "\n",
        "import pandas as pd\n",
        "import numpy as np\n",
        "from sklearn.preprocessing import MinMaxScaler\n",
        "\n",
        "# Sample data (replace with your actual data)\n",
        "data = {'Capacity (MW)': [150, 300, 200, 50, 100],\n",
        "        'Cost (Million $)': [200, 400, 350, 100, 250]}\n",
        "df = pd.DataFrame(data)\n",
        "\n",
        "# Create a MinMaxScaler object\n",
        "scaler = MinMaxScaler()\n",
        "\n",
        "# Fit the scaler to your data and transform it\n",
        "scaled_data = scaler.fit_transform(df)\n",
        "\n",
        "# Create a new DataFrame with the scaled data\n",
        "scaled_df = pd.DataFrame(scaled_data, columns=df.columns)\n",
        "\n",
        "# Print the scaled DataFrame\n",
        "scaled_df"
      ],
      "metadata": {
        "id": "-2uqwSkFTR8c",
        "colab": {
          "base_uri": "https://localhost:8080/",
          "height": 206
        },
        "outputId": "afef1090-43e4-4949-fdea-ad0a30eef051"
      },
      "execution_count": null,
      "outputs": [
        {
          "output_type": "execute_result",
          "data": {
            "text/plain": [
              "   Capacity (MW)  Cost (Million $)\n",
              "0            0.4          0.333333\n",
              "1            1.0          1.000000\n",
              "2            0.6          0.833333\n",
              "3            0.0          0.000000\n",
              "4            0.2          0.500000"
            ],
            "text/html": [
              "\n",
              "  <div id=\"df-870c1117-4e50-46b7-86e1-c8e227525d3d\" class=\"colab-df-container\">\n",
              "    <div>\n",
              "<style scoped>\n",
              "    .dataframe tbody tr th:only-of-type {\n",
              "        vertical-align: middle;\n",
              "    }\n",
              "\n",
              "    .dataframe tbody tr th {\n",
              "        vertical-align: top;\n",
              "    }\n",
              "\n",
              "    .dataframe thead th {\n",
              "        text-align: right;\n",
              "    }\n",
              "</style>\n",
              "<table border=\"1\" class=\"dataframe\">\n",
              "  <thead>\n",
              "    <tr style=\"text-align: right;\">\n",
              "      <th></th>\n",
              "      <th>Capacity (MW)</th>\n",
              "      <th>Cost (Million $)</th>\n",
              "    </tr>\n",
              "  </thead>\n",
              "  <tbody>\n",
              "    <tr>\n",
              "      <th>0</th>\n",
              "      <td>0.4</td>\n",
              "      <td>0.333333</td>\n",
              "    </tr>\n",
              "    <tr>\n",
              "      <th>1</th>\n",
              "      <td>1.0</td>\n",
              "      <td>1.000000</td>\n",
              "    </tr>\n",
              "    <tr>\n",
              "      <th>2</th>\n",
              "      <td>0.6</td>\n",
              "      <td>0.833333</td>\n",
              "    </tr>\n",
              "    <tr>\n",
              "      <th>3</th>\n",
              "      <td>0.0</td>\n",
              "      <td>0.000000</td>\n",
              "    </tr>\n",
              "    <tr>\n",
              "      <th>4</th>\n",
              "      <td>0.2</td>\n",
              "      <td>0.500000</td>\n",
              "    </tr>\n",
              "  </tbody>\n",
              "</table>\n",
              "</div>\n",
              "    <div class=\"colab-df-buttons\">\n",
              "\n",
              "  <div class=\"colab-df-container\">\n",
              "    <button class=\"colab-df-convert\" onclick=\"convertToInteractive('df-870c1117-4e50-46b7-86e1-c8e227525d3d')\"\n",
              "            title=\"Convert this dataframe to an interactive table.\"\n",
              "            style=\"display:none;\">\n",
              "\n",
              "  <svg xmlns=\"http://www.w3.org/2000/svg\" height=\"24px\" viewBox=\"0 -960 960 960\">\n",
              "    <path d=\"M120-120v-720h720v720H120Zm60-500h600v-160H180v160Zm220 220h160v-160H400v160Zm0 220h160v-160H400v160ZM180-400h160v-160H180v160Zm440 0h160v-160H620v160ZM180-180h160v-160H180v160Zm440 0h160v-160H620v160Z\"/>\n",
              "  </svg>\n",
              "    </button>\n",
              "\n",
              "  <style>\n",
              "    .colab-df-container {\n",
              "      display:flex;\n",
              "      gap: 12px;\n",
              "    }\n",
              "\n",
              "    .colab-df-convert {\n",
              "      background-color: #E8F0FE;\n",
              "      border: none;\n",
              "      border-radius: 50%;\n",
              "      cursor: pointer;\n",
              "      display: none;\n",
              "      fill: #1967D2;\n",
              "      height: 32px;\n",
              "      padding: 0 0 0 0;\n",
              "      width: 32px;\n",
              "    }\n",
              "\n",
              "    .colab-df-convert:hover {\n",
              "      background-color: #E2EBFA;\n",
              "      box-shadow: 0px 1px 2px rgba(60, 64, 67, 0.3), 0px 1px 3px 1px rgba(60, 64, 67, 0.15);\n",
              "      fill: #174EA6;\n",
              "    }\n",
              "\n",
              "    .colab-df-buttons div {\n",
              "      margin-bottom: 4px;\n",
              "    }\n",
              "\n",
              "    [theme=dark] .colab-df-convert {\n",
              "      background-color: #3B4455;\n",
              "      fill: #D2E3FC;\n",
              "    }\n",
              "\n",
              "    [theme=dark] .colab-df-convert:hover {\n",
              "      background-color: #434B5C;\n",
              "      box-shadow: 0px 1px 3px 1px rgba(0, 0, 0, 0.15);\n",
              "      filter: drop-shadow(0px 1px 2px rgba(0, 0, 0, 0.3));\n",
              "      fill: #FFFFFF;\n",
              "    }\n",
              "  </style>\n",
              "\n",
              "    <script>\n",
              "      const buttonEl =\n",
              "        document.querySelector('#df-870c1117-4e50-46b7-86e1-c8e227525d3d button.colab-df-convert');\n",
              "      buttonEl.style.display =\n",
              "        google.colab.kernel.accessAllowed ? 'block' : 'none';\n",
              "\n",
              "      async function convertToInteractive(key) {\n",
              "        const element = document.querySelector('#df-870c1117-4e50-46b7-86e1-c8e227525d3d');\n",
              "        const dataTable =\n",
              "          await google.colab.kernel.invokeFunction('convertToInteractive',\n",
              "                                                    [key], {});\n",
              "        if (!dataTable) return;\n",
              "\n",
              "        const docLinkHtml = 'Like what you see? Visit the ' +\n",
              "          '<a target=\"_blank\" href=https://colab.research.google.com/notebooks/data_table.ipynb>data table notebook</a>'\n",
              "          + ' to learn more about interactive tables.';\n",
              "        element.innerHTML = '';\n",
              "        dataTable['output_type'] = 'display_data';\n",
              "        await google.colab.output.renderOutput(dataTable, element);\n",
              "        const docLink = document.createElement('div');\n",
              "        docLink.innerHTML = docLinkHtml;\n",
              "        element.appendChild(docLink);\n",
              "      }\n",
              "    </script>\n",
              "  </div>\n",
              "\n",
              "\n",
              "<div id=\"df-e1eb03eb-3f22-4327-bc80-13e9405e79ab\">\n",
              "  <button class=\"colab-df-quickchart\" onclick=\"quickchart('df-e1eb03eb-3f22-4327-bc80-13e9405e79ab')\"\n",
              "            title=\"Suggest charts\"\n",
              "            style=\"display:none;\">\n",
              "\n",
              "<svg xmlns=\"http://www.w3.org/2000/svg\" height=\"24px\"viewBox=\"0 0 24 24\"\n",
              "     width=\"24px\">\n",
              "    <g>\n",
              "        <path d=\"M19 3H5c-1.1 0-2 .9-2 2v14c0 1.1.9 2 2 2h14c1.1 0 2-.9 2-2V5c0-1.1-.9-2-2-2zM9 17H7v-7h2v7zm4 0h-2V7h2v10zm4 0h-2v-4h2v4z\"/>\n",
              "    </g>\n",
              "</svg>\n",
              "  </button>\n",
              "\n",
              "<style>\n",
              "  .colab-df-quickchart {\n",
              "      --bg-color: #E8F0FE;\n",
              "      --fill-color: #1967D2;\n",
              "      --hover-bg-color: #E2EBFA;\n",
              "      --hover-fill-color: #174EA6;\n",
              "      --disabled-fill-color: #AAA;\n",
              "      --disabled-bg-color: #DDD;\n",
              "  }\n",
              "\n",
              "  [theme=dark] .colab-df-quickchart {\n",
              "      --bg-color: #3B4455;\n",
              "      --fill-color: #D2E3FC;\n",
              "      --hover-bg-color: #434B5C;\n",
              "      --hover-fill-color: #FFFFFF;\n",
              "      --disabled-bg-color: #3B4455;\n",
              "      --disabled-fill-color: #666;\n",
              "  }\n",
              "\n",
              "  .colab-df-quickchart {\n",
              "    background-color: var(--bg-color);\n",
              "    border: none;\n",
              "    border-radius: 50%;\n",
              "    cursor: pointer;\n",
              "    display: none;\n",
              "    fill: var(--fill-color);\n",
              "    height: 32px;\n",
              "    padding: 0;\n",
              "    width: 32px;\n",
              "  }\n",
              "\n",
              "  .colab-df-quickchart:hover {\n",
              "    background-color: var(--hover-bg-color);\n",
              "    box-shadow: 0 1px 2px rgba(60, 64, 67, 0.3), 0 1px 3px 1px rgba(60, 64, 67, 0.15);\n",
              "    fill: var(--button-hover-fill-color);\n",
              "  }\n",
              "\n",
              "  .colab-df-quickchart-complete:disabled,\n",
              "  .colab-df-quickchart-complete:disabled:hover {\n",
              "    background-color: var(--disabled-bg-color);\n",
              "    fill: var(--disabled-fill-color);\n",
              "    box-shadow: none;\n",
              "  }\n",
              "\n",
              "  .colab-df-spinner {\n",
              "    border: 2px solid var(--fill-color);\n",
              "    border-color: transparent;\n",
              "    border-bottom-color: var(--fill-color);\n",
              "    animation:\n",
              "      spin 1s steps(1) infinite;\n",
              "  }\n",
              "\n",
              "  @keyframes spin {\n",
              "    0% {\n",
              "      border-color: transparent;\n",
              "      border-bottom-color: var(--fill-color);\n",
              "      border-left-color: var(--fill-color);\n",
              "    }\n",
              "    20% {\n",
              "      border-color: transparent;\n",
              "      border-left-color: var(--fill-color);\n",
              "      border-top-color: var(--fill-color);\n",
              "    }\n",
              "    30% {\n",
              "      border-color: transparent;\n",
              "      border-left-color: var(--fill-color);\n",
              "      border-top-color: var(--fill-color);\n",
              "      border-right-color: var(--fill-color);\n",
              "    }\n",
              "    40% {\n",
              "      border-color: transparent;\n",
              "      border-right-color: var(--fill-color);\n",
              "      border-top-color: var(--fill-color);\n",
              "    }\n",
              "    60% {\n",
              "      border-color: transparent;\n",
              "      border-right-color: var(--fill-color);\n",
              "    }\n",
              "    80% {\n",
              "      border-color: transparent;\n",
              "      border-right-color: var(--fill-color);\n",
              "      border-bottom-color: var(--fill-color);\n",
              "    }\n",
              "    90% {\n",
              "      border-color: transparent;\n",
              "      border-bottom-color: var(--fill-color);\n",
              "    }\n",
              "  }\n",
              "</style>\n",
              "\n",
              "  <script>\n",
              "    async function quickchart(key) {\n",
              "      const quickchartButtonEl =\n",
              "        document.querySelector('#' + key + ' button');\n",
              "      quickchartButtonEl.disabled = true;  // To prevent multiple clicks.\n",
              "      quickchartButtonEl.classList.add('colab-df-spinner');\n",
              "      try {\n",
              "        const charts = await google.colab.kernel.invokeFunction(\n",
              "            'suggestCharts', [key], {});\n",
              "      } catch (error) {\n",
              "        console.error('Error during call to suggestCharts:', error);\n",
              "      }\n",
              "      quickchartButtonEl.classList.remove('colab-df-spinner');\n",
              "      quickchartButtonEl.classList.add('colab-df-quickchart-complete');\n",
              "    }\n",
              "    (() => {\n",
              "      let quickchartButtonEl =\n",
              "        document.querySelector('#df-e1eb03eb-3f22-4327-bc80-13e9405e79ab button');\n",
              "      quickchartButtonEl.style.display =\n",
              "        google.colab.kernel.accessAllowed ? 'block' : 'none';\n",
              "    })();\n",
              "  </script>\n",
              "</div>\n",
              "\n",
              "  <div id=\"id_0d98eac3-3796-495c-aa57-d3605ad17dfb\">\n",
              "    <style>\n",
              "      .colab-df-generate {\n",
              "        background-color: #E8F0FE;\n",
              "        border: none;\n",
              "        border-radius: 50%;\n",
              "        cursor: pointer;\n",
              "        display: none;\n",
              "        fill: #1967D2;\n",
              "        height: 32px;\n",
              "        padding: 0 0 0 0;\n",
              "        width: 32px;\n",
              "      }\n",
              "\n",
              "      .colab-df-generate:hover {\n",
              "        background-color: #E2EBFA;\n",
              "        box-shadow: 0px 1px 2px rgba(60, 64, 67, 0.3), 0px 1px 3px 1px rgba(60, 64, 67, 0.15);\n",
              "        fill: #174EA6;\n",
              "      }\n",
              "\n",
              "      [theme=dark] .colab-df-generate {\n",
              "        background-color: #3B4455;\n",
              "        fill: #D2E3FC;\n",
              "      }\n",
              "\n",
              "      [theme=dark] .colab-df-generate:hover {\n",
              "        background-color: #434B5C;\n",
              "        box-shadow: 0px 1px 3px 1px rgba(0, 0, 0, 0.15);\n",
              "        filter: drop-shadow(0px 1px 2px rgba(0, 0, 0, 0.3));\n",
              "        fill: #FFFFFF;\n",
              "      }\n",
              "    </style>\n",
              "    <button class=\"colab-df-generate\" onclick=\"generateWithVariable('scaled_df')\"\n",
              "            title=\"Generate code using this dataframe.\"\n",
              "            style=\"display:none;\">\n",
              "\n",
              "  <svg xmlns=\"http://www.w3.org/2000/svg\" height=\"24px\"viewBox=\"0 0 24 24\"\n",
              "       width=\"24px\">\n",
              "    <path d=\"M7,19H8.4L18.45,9,17,7.55,7,17.6ZM5,21V16.75L18.45,3.32a2,2,0,0,1,2.83,0l1.4,1.43a1.91,1.91,0,0,1,.58,1.4,1.91,1.91,0,0,1-.58,1.4L9.25,21ZM18.45,9,17,7.55Zm-12,3A5.31,5.31,0,0,0,4.9,8.1,5.31,5.31,0,0,0,1,6.5,5.31,5.31,0,0,0,4.9,4.9,5.31,5.31,0,0,0,6.5,1,5.31,5.31,0,0,0,8.1,4.9,5.31,5.31,0,0,0,12,6.5,5.46,5.46,0,0,0,6.5,12Z\"/>\n",
              "  </svg>\n",
              "    </button>\n",
              "    <script>\n",
              "      (() => {\n",
              "      const buttonEl =\n",
              "        document.querySelector('#id_0d98eac3-3796-495c-aa57-d3605ad17dfb button.colab-df-generate');\n",
              "      buttonEl.style.display =\n",
              "        google.colab.kernel.accessAllowed ? 'block' : 'none';\n",
              "\n",
              "      buttonEl.onclick = () => {\n",
              "        google.colab.notebook.generateWithVariable('scaled_df');\n",
              "      }\n",
              "      })();\n",
              "    </script>\n",
              "  </div>\n",
              "\n",
              "    </div>\n",
              "  </div>\n"
            ],
            "application/vnd.google.colaboratory.intrinsic+json": {
              "type": "dataframe",
              "variable_name": "scaled_df",
              "summary": "{\n  \"name\": \"scaled_df\",\n  \"rows\": 5,\n  \"fields\": [\n    {\n      \"column\": \"Capacity (MW)\",\n      \"properties\": {\n        \"dtype\": \"number\",\n        \"std\": 0.3847076812334269,\n        \"min\": 0.0,\n        \"max\": 1.0,\n        \"num_unique_values\": 5,\n        \"samples\": [\n          1.0,\n          0.2,\n          0.6000000000000001\n        ],\n        \"semantic_type\": \"\",\n        \"description\": \"\"\n      }\n    },\n    {\n      \"column\": \"Cost (Million $)\",\n      \"properties\": {\n        \"dtype\": \"number\",\n        \"std\": 0.39791121287711073,\n        \"min\": 0.0,\n        \"max\": 1.0,\n        \"num_unique_values\": 5,\n        \"samples\": [\n          1.0,\n          0.5,\n          0.8333333333333334\n        ],\n        \"semantic_type\": \"\",\n        \"description\": \"\"\n      }\n    }\n  ]\n}"
            }
          },
          "metadata": {},
          "execution_count": 37
        }
      ]
    }
  ]
}